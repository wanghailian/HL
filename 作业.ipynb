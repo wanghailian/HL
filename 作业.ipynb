{
 "cells": [
  {
   "cell_type": "code",
   "execution_count": 6,
   "metadata": {},
   "outputs": [
    {
     "ename": "IndentationError",
     "evalue": "expected an indented block (<ipython-input-6-f4eb9d583239>, line 13)",
     "output_type": "error",
     "traceback": [
      "\u001b[1;36m  File \u001b[1;32m\"<ipython-input-6-f4eb9d583239>\"\u001b[1;36m, line \u001b[1;32m13\u001b[0m\n\u001b[1;33m    getPentalNumber(100)\u001b[0m\n\u001b[1;37m                        ^\u001b[0m\n\u001b[1;31mIndentationError\u001b[0m\u001b[1;31m:\u001b[0m expected an indented block\n"
     ]
    }
   ],
   "source": [
    "    \n",
    "   \n",
    "\n",
    "    \n",
    "    \n",
    "    "
   ]
  },
  {
   "cell_type": "code",
   "execution_count": 7,
   "metadata": {},
   "outputs": [
    {
     "name": "stdout",
     "output_type": "stream",
     "text": [
      "12\n"
     ]
    }
   ],
   "source": [
    "def sumDigits(n):       #2、计算整数各个数的和\n",
    "    #str 将括号中的内容强制转换为字符串\n",
    "    str_ = str(n)\n",
    "    int_ = 0\n",
    "    for i in str_:\n",
    "        int_ += int(i)    #int_ = int_ +int(i)\n",
    "    print(int_)\n",
    "    \n",
    "    \n",
    "sumDigits(345)    \n",
    "   \n",
    "\n",
    "    "
   ]
  },
  {
   "cell_type": "code",
   "execution_count": 5,
   "metadata": {},
   "outputs": [
    {
     "name": "stdout",
     "output_type": "stream",
     "text": [
      "1000\n",
      "1000\n",
      "None\n"
     ]
    }
   ],
   "source": [
    "class A(object):\n",
    "    def __init__(self):\n",
    "        #私有：在变量名称前加上'__'\n",
    "        #私有  不可继承，不可在外部调用\n",
    "        #但是可以在内部调用\n",
    "        self.__a = 1000\n",
    "        #约定使用“—”来表示私有\n",
    "    def B(self):\n",
    "        print(self.__a)\n",
    "        self.__C()\n",
    "    def __C(self):\n",
    "        print(self.__a)\n",
    "        \n",
    "A_ = A()\n",
    "# print(A_.__a)\n",
    "print(A_.B())\n",
    "#print（dir（A））"
   ]
  },
  {
   "cell_type": "code",
   "execution_count": 4,
   "metadata": {},
   "outputs": [
    {
     "name": "stdout",
     "output_type": "stream",
     "text": [
      "[4, 5, 6]\n"
     ]
    }
   ],
   "source": [
    "def displaySortedNumbers(num1,num2,num3):    #3、升序\n",
    "    res = [num1,num2,num3]\n",
    "    res.sort()\n",
    "    print(res)\n",
    "\n",
    "displaySortedNumbers(6,5,4)\n"
   ]
  },
  {
   "cell_type": "code",
   "execution_count": 7,
   "metadata": {},
   "outputs": [
    {
     "name": "stdout",
     "output_type": "stream",
     "text": [
      "请输入邮箱:>>123\n",
      " 您输入的邮箱是: 123\n",
      "请输入您的密码:>>456\n",
      "请输入确认密码:>>456\n",
      "密码确认成功\n",
      "验证码是: 1040\n",
      "输入验证码:>>1040\n",
      "注册成功\n"
     ]
    }
   ],
   "source": [
    "import random\n",
    "\n",
    "class Regist(object):\n",
    "    \"\"\"\n",
    "    Implementation resgist in 163.\n",
    "    \"\"\"\n",
    "    def account(self):\n",
    "        \"\"\"\n",
    "        Input account.\n",
    "        \"\"\"\n",
    "        # 检测邮箱的正确性.\n",
    "        # input 返回出来的是一个字符串\n",
    "        email = input('请输入邮箱:>>')\n",
    "        print(' 您输入的邮箱是: %s' % email)\n",
    "        self.password()\n",
    "    def password(self):\n",
    "        \"\"\"\n",
    "        input passward,\n",
    "        \"\"\"\n",
    "        # 密码的长度必须是6-20位\n",
    "        # 密码必须含有大写小写字母以及数字.\n",
    "        for _ in range(4):\n",
    "            password_1 = input('请输入您的密码:>>')\n",
    "            password_2 = input('请输入确认密码:>>')\n",
    "            if password_1 == password_2:\n",
    "                print('密码确认成功')\n",
    "                self.verfily()\n",
    "                break\n",
    "            else:\n",
    "                print('两次密码不一致')\n",
    "        else:\n",
    "            print('您可能是一个机器人滚')\n",
    "\n",
    "    def verfily(self):\n",
    "        \"\"\"\n",
    "        ver...\n",
    "        \"\"\"\n",
    "        # 英文和数字的结合\n",
    "        # 给予一个简单的数学运算得到结果.\n",
    "        for _ in range(3):\n",
    "            number = random.randrange(1000,9999)\n",
    "            print('验证码是: %d'%number)\n",
    "            number_2 = input('输入验证码:>>')\n",
    "            if number == int(number_2):\n",
    "                print('注册成功')\n",
    "                break\n",
    "            else:\n",
    "                print('验证码错误')\n",
    "        else:\n",
    "            print('机器人')\n",
    "\n",
    "def main():\n",
    "    regist = Regist()\n",
    "    regist.account()\n",
    "\n",
    "\n",
    "main()"
   ]
  },
  {
   "cell_type": "code",
   "execution_count": 29,
   "metadata": {},
   "outputs": [],
   "source": [
    "class NUM(object):\n",
    "    def __init__(self):\n",
    "        self.mimi = 'hahah'\n",
    "        self.mima = '123456'\n",
    "    @property\n",
    "     #访问器 - getter方法\n",
    "    def mimi(self):\n",
    "        return self._mimi\n",
    "    @mimi.setter\n",
    "     #修改器 - setter方法\n",
    "    def mimi(self,str_):\n",
    "        self._mimi = str_\n",
    "    def look():\n",
    "        joker = joker()\n",
    "        print(joker.mimi)\n",
    "        \n",
    "    def change(passwrod,str_):\n",
    "        if passwrod == '123456':\n",
    "            joker = joker()\n",
    "            joker.mimi = str_\n",
    "            print(joker.mimi)\n",
    "        \n",
    "        \n",
    "   #默认隐私，需要确认密码才能修改     在python中类是动态的。\n",
    "\n",
    "   \n",
    "    \n",
    "        \n",
    "        "
   ]
  },
  {
   "cell_type": "code",
   "execution_count": 41,
   "metadata": {},
   "outputs": [
    {
     "name": "stdout",
     "output_type": "stream",
     "text": [
      "1000000\n",
      "1000000\n"
     ]
    }
   ],
   "source": [
    "class Num(object):       #....在python中类是动态的。\n",
    "    def __init__(self):\n",
    "        self.a = 1000\n",
    "    \n",
    "    def A(self):\n",
    "        print(self.b)\n",
    "\n",
    "\n",
    "num = Num()\n",
    "num.b =1000000\n",
    "# print(num.a)\n",
    "print(num.b)\n",
    "num.A()"
   ]
  },
  {
   "cell_type": "code",
   "execution_count": 3,
   "metadata": {},
   "outputs": [
    {
     "name": "stdout",
     "output_type": "stream",
     "text": [
      "1007\n"
     ]
    }
   ],
   "source": [
    "class Number(object):\n",
    "    def __init__(self,num1,num2,num3):\n",
    "        self._num1  = num1\n",
    "        self.__num2  = num2\n",
    "        self.__num3  = num3\n",
    "    #访问器.......getter方法\n",
    "    @property\n",
    "    def num1(self):\n",
    "        print(self._num1)\n",
    "    #修改器.......setter方法\n",
    "    @num1.setter\n",
    "    def num1(self,num):\n",
    "         self._num1 = num\n",
    "    \n",
    "    def SUM(self):\n",
    "        print(self._num1 + self.__num2 + self.__num3)\n",
    "\n",
    "\n",
    "number = Number(2,4,3)\n",
    "# number.num1 = 10000\n",
    "number.num1 = 1000\n",
    "number.SUM()"
   ]
  },
  {
   "cell_type": "code",
   "execution_count": 22,
   "metadata": {},
   "outputs": [
    {
     "name": "stdout",
     "output_type": "stream",
     "text": [
      "请输入长方形的宽: 2\n",
      "请输入长方形的长: 4\n",
      "周长: 12.00\n",
      "面积: 8.00\n"
     ]
    }
   ],
   "source": [
    "import math\n",
    "\n",
    "width = float(input('请输入长方形的宽: '))\n",
    "length = float(input('请输入长方形的长: '))\n",
    "perimeter = 2*(width+length) \n",
    "area =  width*length \n",
    "print('周长: %.2f' % perimeter)\n",
    "print('面积: %.2f' % area)\n",
    "    "
   ]
  },
  {
   "cell_type": "code",
   "execution_count": null,
   "metadata": {},
   "outputs": [],
   "source": [
    "year = int(input('请输入年份: '))\n",
    "# 如果代码太长写成一行不便于阅读 可以使用\\或()折行\n",
    "is_leap = (year % 4 == 0 and year % 100 != 0 or\n",
    "           year % 400 == 0)\n",
    "print(is_leap)"
   ]
  },
  {
   "cell_type": "code",
   "execution_count": 12,
   "metadata": {},
   "outputs": [
    {
     "name": "stdout",
     "output_type": "stream",
     "text": [
      "4\n"
     ]
    }
   ],
   "source": [
    "class Triangle(object):  #判断是否是正方形，并计算面积。\n",
    "    \n",
    "    def __init__(self,a,b,c,d):\n",
    "        self.a = a\n",
    "        self.b = b\n",
    "        self.c = c\n",
    "        self.d = d\n",
    "    @staticmethod    #如果类中需要非该类成员存在,则可以使用静态调用的方法        \n",
    "    def is_valid(a,b,c,d):\n",
    "        for i in [b,c,d]:\n",
    "            if i != a:\n",
    "                return False\n",
    "            \n",
    "        else:\n",
    "            return True\n",
    "                \n",
    "    def area(self):\n",
    "        if res == True:\n",
    "            area_ = self.a * self.b\n",
    "            return area_\n",
    "            \n",
    "Triangle = Triangle(2,2,2,2)\n",
    "res = Triangle.is_valid(2,2,2,2)\n",
    "if res == True:\n",
    "    print (Triangle.area())\n"
   ]
  },
  {
   "cell_type": "code",
   "execution_count": 16,
   "metadata": {},
   "outputs": [
    {
     "name": "stdout",
     "output_type": "stream",
     "text": [
      "3\n"
     ]
    }
   ],
   "source": [
    "class A(object):\n",
    "    def __init__(self,a,b):\n",
    "        self.a = a\n",
    "        self.b = b\n",
    "        print(a+b)\n",
    "\n",
    "        \n",
    "class B(A):\n",
    "    def A(self):\n",
    "        print('A')    \n",
    "b_ = B(1,2)  \n",
    "        "
   ]
  },
  {
   "cell_type": "code",
   "execution_count": 33,
   "metadata": {},
   "outputs": [
    {
     "name": "stdout",
     "output_type": "stream",
     "text": [
      "17:47:18\n",
      "17:47:19\n",
      "17:47:20\n",
      "17:47:21\n",
      "17:47:22\n",
      "17:47:23\n"
     ]
    },
    {
     "ename": "KeyboardInterrupt",
     "evalue": "",
     "output_type": "error",
     "traceback": [
      "\u001b[1;31m---------------------------------------------------------------------------\u001b[0m",
      "\u001b[1;31mKeyboardInterrupt\u001b[0m                         Traceback (most recent call last)",
      "\u001b[1;32m<ipython-input-33-8c6ae9e5e4c2>\u001b[0m in \u001b[0;36m<module>\u001b[1;34m()\u001b[0m\n\u001b[0;32m     42\u001b[0m \u001b[1;33m\u001b[0m\u001b[0m\n\u001b[0;32m     43\u001b[0m \u001b[1;32mif\u001b[0m \u001b[0m__name__\u001b[0m \u001b[1;33m==\u001b[0m \u001b[1;34m'__main__'\u001b[0m\u001b[1;33m:\u001b[0m\u001b[1;33m\u001b[0m\u001b[0m\n\u001b[1;32m---> 44\u001b[1;33m     \u001b[0mmain\u001b[0m\u001b[1;33m(\u001b[0m\u001b[1;33m)\u001b[0m\u001b[1;33m\u001b[0m\u001b[0m\n\u001b[0m",
      "\u001b[1;32m<ipython-input-33-8c6ae9e5e4c2>\u001b[0m in \u001b[0;36mmain\u001b[1;34m()\u001b[0m\n\u001b[0;32m     37\u001b[0m     \u001b[1;32mwhile\u001b[0m \u001b[1;32mTrue\u001b[0m\u001b[1;33m:\u001b[0m\u001b[1;33m\u001b[0m\u001b[0m\n\u001b[0;32m     38\u001b[0m         \u001b[0mprint\u001b[0m\u001b[1;33m(\u001b[0m\u001b[0mclock\u001b[0m\u001b[1;33m.\u001b[0m\u001b[0mshow\u001b[0m\u001b[1;33m(\u001b[0m\u001b[1;33m)\u001b[0m\u001b[1;33m)\u001b[0m\u001b[1;33m\u001b[0m\u001b[0m\n\u001b[1;32m---> 39\u001b[1;33m         \u001b[0msleep\u001b[0m\u001b[1;33m(\u001b[0m\u001b[1;36m1\u001b[0m\u001b[1;33m)\u001b[0m\u001b[1;33m\u001b[0m\u001b[0m\n\u001b[0m\u001b[0;32m     40\u001b[0m         \u001b[0mclock\u001b[0m\u001b[1;33m.\u001b[0m\u001b[0mrun\u001b[0m\u001b[1;33m(\u001b[0m\u001b[1;33m)\u001b[0m\u001b[1;33m\u001b[0m\u001b[0m\n\u001b[0;32m     41\u001b[0m \u001b[1;33m\u001b[0m\u001b[0m\n",
      "\u001b[1;31mKeyboardInterrupt\u001b[0m: "
     ]
    }
   ],
   "source": [
    "from time import time, localtime, sleep\n",
    "\n",
    "\n",
    "class Clock(object):\n",
    "    \"\"\"数字时钟\"\"\"\n",
    "\n",
    "    def __init__(self, hour=0, minute=0, second=0):\n",
    "        self._hour = hour\n",
    "        self._minute = minute\n",
    "        self._second = second\n",
    "\n",
    "    @classmethod\n",
    "    def now(cls):\n",
    "        ctime = localtime(time())\n",
    "        return cls(ctime.tm_hour, ctime.tm_min, ctime.tm_sec)\n",
    "\n",
    "    def run(self):\n",
    "           \"\"\"走字\"\"\"\n",
    "        self._second += 1\n",
    "        if self._second == 60:\n",
    "            self._second = 0\n",
    "            self._minute += 1\n",
    "            if self._minute == 60:\n",
    "                self._minute = 0\n",
    "                self._hour += 1\n",
    "                if self._hour == 24:\n",
    "                    self._hour = 0\n",
    "\n",
    "    def show(self):\n",
    "        \"\"\"显示时间\"\"\"\n",
    "        return '%02d:%02d:%02d' % \\\n",
    "               (self._hour, self._minute, self._second)\n",
    "\n",
    "\n",
    "def main():\n",
    "    # 通过类方法创建对象并获取系统时间\n",
    "    clock = Clock.now()\n",
    "    while True:\n",
    "        print(clock.show())\n",
    "        sleep(1)\n",
    "        clock.run()\n",
    "\n",
    "\n",
    "if __name__ == '__main__':\n",
    "    main()"
   ]
  },
  {
   "cell_type": "code",
   "execution_count": 20,
   "metadata": {},
   "outputs": [
    {
     "name": "stdout",
     "output_type": "stream",
     "text": [
      "300\n"
     ]
    }
   ],
   "source": [
    "class A(object):                 #继承，\n",
    "    def __init__(self):\n",
    "        self.a = 100\n",
    "        self.a1 = 200\n",
    "    def sum_(self):\n",
    "        SUM_ = self.a + self.a1\n",
    "        return SUM_\n",
    "    \n",
    "class B(A):\n",
    "    # 这个init是B自身的\n",
    "    def __init__(self):\n",
    "        A.__init__(self)         # super（）.__在子类中调用方法可用。\n",
    "    def print(self):\n",
    "        res = self.sum_()\n",
    "        print(res)\n",
    "b = B()\n",
    "b.print()"
   ]
  },
  {
   "cell_type": "code",
   "execution_count": 21,
   "metadata": {},
   "outputs": [
    {
     "name": "stdout",
     "output_type": "stream",
     "text": [
      "1100\n"
     ]
    }
   ],
   "source": [
    "class A(object):\n",
    "    def __init__(self,a1):\n",
    "        self.a = 100\n",
    "        self.a1 = a1\n",
    "    def sum_(self):\n",
    "        SUM_ = self.a + self.a1\n",
    "        return SUM_\n",
    "    \n",
    "class B(A):\n",
    "    # 这个init是B自身的\n",
    "    def __init__(self,a1,b1):\n",
    "        self.b1 = b1\n",
    "        A.__init__(self,a1)         # super（A,self）.__init(a1)\n",
    "    def print(self):\n",
    "        res = self.sum_()\n",
    "        print(res)\n",
    "        \n",
    "        \n",
    "b = B(1000,'100')\n",
    "b.print()\n",
    "\n",
    "        \n",
    "        \n",
    "        "
   ]
  },
  {
   "cell_type": "code",
   "execution_count": 23,
   "metadata": {},
   "outputs": [
    {
     "name": "stdout",
     "output_type": "stream",
     "text": [
      "a+b= 300\n",
      "100 200\n"
     ]
    }
   ],
   "source": [
    "def HL(func):                        #装饰器\n",
    "    def warp(a,b):\n",
    "        print('a+b=',a + b)\n",
    "        return func(a,b)\n",
    "    return warp\n",
    "\n",
    "@HL\n",
    "def SUM(a,b):\n",
    "    print(a,b)\n",
    "    \n",
    "    \n",
    "SUM(100,200)"
   ]
  },
  {
   "cell_type": "code",
   "execution_count": 25,
   "metadata": {
    "scrolled": true
   },
   "outputs": [
    {
     "name": "stdout",
     "output_type": "stream",
     "text": [
      "0 13 9\n",
      "117\n"
     ]
    }
   ],
   "source": [
    "def hl(func):    #装饰器将前面两个数字的求和，函数本身第三个数乘上这个和。\n",
    "    def warp(num1,num2,num3):\n",
    "        num = num1 + num2 \n",
    "        return func(0,num,num3)\n",
    "    return warp\n",
    "\n",
    "@hl\n",
    "def SUM(num1,num2,num3):\n",
    "    print(num1,num2,num3)\n",
    "    print(num2*num3)\n",
    "    \n",
    "    \n",
    "SUM(5,8,9)\n",
    "        \n",
    "        "
   ]
  },
  {
   "cell_type": "code",
   "execution_count": 2,
   "metadata": {},
   "outputs": [
    {
     "name": "stdout",
     "output_type": "stream",
     "text": [
      "6\n",
      "13\n",
      "0\n",
      "1\n",
      "3\n",
      "6\n",
      "350\n"
     ]
    }
   ],
   "source": [
    "from random import randint         #掷骰子\n",
    "\n",
    "\n",
    "def roll_dice(n=2):\n",
    "    \"\"\"\n",
    "    摇色子\n",
    "    \n",
    "    :param n: 色子的个数\n",
    "    :return: n颗色子点数之和\n",
    "    \"\"\"\n",
    "    total = 0\n",
    "    for _ in range(n):\n",
    "        total += randint(1, 6)\n",
    "    return total\n",
    "\n",
    "\n",
    "def add(a=0, b=0, c=0):\n",
    "    return a + b + c\n",
    "\n",
    "\n",
    "# 如果没有指定参数那么使用默认值摇两颗色子\n",
    "print(roll_dice())\n",
    "# 摇三颗色子\n",
    "print(roll_dice(3))\n",
    "print(add())\n",
    "print(add(1))\n",
    "print(add(1, 2))\n",
    "print(add(1, 2, 3))\n",
    "# 传递参数时可以不按照设定的顺序进行传递\n",
    "print(add(c=50, a=100, b=200))"
   ]
  },
  {
   "cell_type": "code",
   "execution_count": null,
   "metadata": {},
   "outputs": [
    {
     "name": "stdout",
     "output_type": "stream",
     "text": [
      "请输入宽：2\n",
      "请输入高：4\n",
      "宽是：2.00,高是：4.00\n",
      "面积是：8.00\n",
      "周长是：12.00\n"
     ]
    }
   ],
   "source": [
    "# 第二次作业第一题 矩形\n",
    "class juxing(object):\n",
    "    def __init__(self,width,height):\n",
    "        self.width=width\n",
    "        self.height=height\n",
    "        print('宽是：%.2f,高是：%.2f'% (width,height))\n",
    "    def getArea(self):\n",
    "        return self.width*self.height\n",
    "    def getPerimeter(self):\n",
    "        return 2*(self.width+self.height)\n",
    "if __name__ == \"__main__\":\n",
    "    width=float(input('请输入宽：'))\n",
    "    height=float(input('请输入高：'))\n",
    "    rs=juxing(width,height)\n",
    "    print('面积是：%.2f'% rs.getArea())\n",
    "    print('周长是：%.2f'% rs.getPerimeter())"
   ]
  },
  {
   "cell_type": "code",
   "execution_count": null,
   "metadata": {},
   "outputs": [],
   "source": [
    "# 第二次作业第四题\n",
    "class RegularPolygon(object):\n",
    "    def __init__(self,n=3,side=1,x=0,y=0):\n",
    "        self.__n=int(n)\n",
    "        self.__side=float(side)\n",
    "        self.__x=float(x)\n",
    "        self.__y=float(y)\n",
    "    def getPerimetetr(self):\n",
    "        print('周长是:%.4f'% (self.__n*self.__side )) \n",
    "    def getArea(self):\n",
    "        import math\n",
    "        self.s=self.__n*(self.__side**2)/4*math.tan(math.pi/self.__n)\n",
    "        print('面积%.4f'% self.s)\n",
    "if __name__ == \"__main__\":\n",
    "    n=int(input('请输入边数：'))\n",
    "    side=float(input('请输入边长：'))\n",
    "    x=float(input('请输入x轴坐标：'))\n",
    "    y=float(input('请输入y轴坐标：'))\n",
    "    r=RegularPolygon(n,side,x,y)\n",
    "    r.getPerimetetr()\n",
    "    r.getArea()"
   ]
  },
  {
   "cell_type": "code",
   "execution_count": null,
   "metadata": {},
   "outputs": [],
   "source": []
  },
  {
   "cell_type": "code",
   "execution_count": 2,
   "metadata": {},
   "outputs": [
    {
     "ename": "ModuleNotFoundError",
     "evalue": "No module named 'wxpy'",
     "output_type": "error",
     "traceback": [
      "\u001b[1;31m---------------------------------------------------------------------------\u001b[0m",
      "\u001b[1;31mModuleNotFoundError\u001b[0m                       Traceback (most recent call last)",
      "\u001b[1;32m<ipython-input-2-e9bf8196bc2a>\u001b[0m in \u001b[0;36m<module>\u001b[1;34m()\u001b[0m\n\u001b[0;32m      1\u001b[0m \u001b[1;31m# 导入模块\u001b[0m\u001b[1;33m\u001b[0m\u001b[1;33m\u001b[0m\u001b[0m\n\u001b[1;32m----> 2\u001b[1;33m \u001b[1;32mfrom\u001b[0m \u001b[0mwxpy\u001b[0m \u001b[1;32mimport\u001b[0m \u001b[1;33m*\u001b[0m\u001b[1;33m\u001b[0m\u001b[0m\n\u001b[0m\u001b[0;32m      3\u001b[0m \u001b[1;31m# 初始化机器人，扫码登陆\u001b[0m\u001b[1;33m\u001b[0m\u001b[1;33m\u001b[0m\u001b[0m\n\u001b[0;32m      4\u001b[0m \u001b[0mbot\u001b[0m \u001b[1;33m=\u001b[0m \u001b[0mBot\u001b[0m\u001b[1;33m(\u001b[0m\u001b[1;33m)\u001b[0m\u001b[1;33m\u001b[0m\u001b[0m\n\u001b[0;32m      5\u001b[0m \u001b[0mprint\u001b[0m\u001b[1;33m(\u001b[0m\u001b[0mbot\u001b[0m\u001b[1;33m)\u001b[0m\u001b[1;33m\u001b[0m\u001b[0m\n",
      "\u001b[1;31mModuleNotFoundError\u001b[0m: No module named 'wxpy'"
     ]
    }
   ],
   "source": [
    "# 导入模块\n",
    "from wxpy import *\n",
    "# 初始化机器人，扫码登陆\n",
    "bot = Bot()\n",
    "print(bot)"
   ]
  },
  {
   "cell_type": "code",
   "execution_count": null,
   "metadata": {},
   "outputs": [],
   "source": [
    "def printChars(ch1, ch2,numberPerLine):  #5、打印字符\n",
    "    # print(ord(ch2))\n",
    "    # print(ord(ch1))\n",
    "    num=ord(ch2)-ord(ch1)+1\n",
    "    num_2=int(numberPerLine)\n",
    "    # print(num_2)\n",
    "    num_1=0\n",
    "    for i in range(ord(ch1),ord(ch2)+1):\n",
    "        print(chr(i),end=\" \")\n",
    "        num_1+=1\n",
    "        if num_1%num_2==0:\n",
    "            print()\n",
    "def start():\n",
    "    ch1, ch2,numberPerLine=map(str,input().split(','))\n",
    "    printChars(ch1, ch2,numberPerLine)\n",
    "\n",
    "start()"
   ]
  },
  {
   "cell_type": "code",
   "execution_count": 2,
   "metadata": {},
   "outputs": [
    {
     "name": "stdout",
     "output_type": "stream",
     "text": [
      "There are 3151 days between 2010-05-31 and 2019-01-15\n"
     ]
    }
   ],
   "source": [
    "from datetime import date      # 6、返回一年的天数\n",
    "\n",
    "lastDate= date(2019,1,15)\n",
    "firstDate = date(2010,5,31)\n",
    "\n",
    "delta = lastDate - firstDate\n",
    "print('There are {} days between {} and {}'.format(delta.days, firstDate, lastDate))\n"
   ]
  },
  {
   "cell_type": "code",
   "execution_count": null,
   "metadata": {},
   "outputs": [],
   "source": [
    "#俩点之间距离          #7、显示角\n",
    "import math\n",
    "def distance(x1,y1,x2,y2):\n",
    "    a=(x1-x2)**2\n",
    "    b=(y1-y2)**2\n",
    "    c=math.sqrt(a+b)\n",
    "    print(c)\n",
    "def start():\n",
    "    x1,y1,x2,y2=map(float,input().split(','))\n",
    "    distance(x1,y1,x2,y2)\n",
    "start()"
   ]
  },
  {
   "cell_type": "code",
   "execution_count": null,
   "metadata": {},
   "outputs": [],
   "source": [
    "def Mersenne_prime(P):     #8、梅森素数\n",
    "    print('P值    梅森素数（P^2-1）')\n",
    "    for i in range(1,P+1):\n",
    "        Number1=2**i-1\n",
    "        Number2=0\n",
    "        for j in range(2,Number1):\n",
    "            if Number1%j==0:\n",
    "                Number2+=1\n",
    "        if Number2==0:\n",
    "            print('%3d %10d'%(i,Number1))\n",
    "def start():\n",
    "    P=int(input())\n",
    "    Mersenne_prime(P)\n",
    "Start()"
   ]
  },
  {
   "cell_type": "code",
   "execution_count": null,
   "metadata": {},
   "outputs": [],
   "source": [
    "def Roll_dice():            #10、掷骰子\n",
    "    import random\n",
    "    dice1=random.randint(1,6)\n",
    "    dice2=random.randint(1,6)\n",
    "    print('Dice1:%d    Dice2:%d'%(dice1,dice2))\n",
    "    sum = dice1+dice2\n",
    "    return sum\n",
    "def Judge():\n",
    "    sum=Roll_dice()\n",
    "    print('点数：%d'%sum)\n",
    "    a=(2,3,12)\n",
    "    b=(7,11)\n",
    "    c=(4,5,6,8,9,10)\n",
    "    if sum in a:\n",
    "        print('你输了')\n",
    "    if sum in b:\n",
    "        print('你赢了')\n",
    "    if sum in c:\n",
    "        Judge1(sum)\n",
    "def Judge1(sum):\n",
    "    sum_1=sum\n",
    "    while True:\n",
    "        sum=Roll_dice()\n",
    "        print('点数：%d'%sum)\n",
    "        if sum==sum_1:\n",
    "            print('你赢了')\n",
    "            break\n",
    "        if sum==7:\n",
    "            print('你输了')\n",
    "            break\n",
    "def start():\n",
    "    Judge()\n",
    "start()"
   ]
  },
  {
   "cell_type": "code",
   "execution_count": 8,
   "metadata": {},
   "outputs": [
    {
     "ename": "IndentationError",
     "evalue": "expected an indented block (<ipython-input-8-2bb31bc52409>, line 13)",
     "output_type": "error",
     "traceback": [
      "\u001b[1;36m  File \u001b[1;32m\"<ipython-input-8-2bb31bc52409>\"\u001b[1;36m, line \u001b[1;32m13\u001b[0m\n\u001b[1;33m    getPentalNumber(100)\u001b[0m\n\u001b[1;37m    ^\u001b[0m\n\u001b[1;31mIndentationError\u001b[0m\u001b[1;31m:\u001b[0m expected an indented block\n"
     ]
    }
   ],
   "source": [
    "def getPentalNumber(n):   #1、五角数\n",
    "    num=0\n",
    "    for i in range(1,n+1):\n",
    "\n",
    "        f = i * (3 * i- 1) / 2\n",
    "        print('%8.2f'%f,end=' ')\n",
    "        num+=1\n",
    "        if num%10==0:\n",
    "            print()\n",
    "\n",
    "        def Start():\n",
    "    \n",
    "    getPentalNumber(100)\n",
    "\n",
    "Start()"
   ]
  },
  {
   "cell_type": "code",
   "execution_count": null,
   "metadata": {},
   "outputs": [],
   "source": []
  }
 ],
 "metadata": {
  "kernelspec": {
   "display_name": "Python 3",
   "language": "python",
   "name": "python3"
  },
  "language_info": {
   "codemirror_mode": {
    "name": "ipython",
    "version": 3
   },
   "file_extension": ".py",
   "mimetype": "text/x-python",
   "name": "python",
   "nbconvert_exporter": "python",
   "pygments_lexer": "ipython3",
   "version": "3.6.4"
  }
 },
 "nbformat": 4,
 "nbformat_minor": 2
}
